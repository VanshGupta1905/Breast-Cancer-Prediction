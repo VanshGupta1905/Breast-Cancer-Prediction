{
  "nbformat": 4,
  "nbformat_minor": 0,
  "metadata": {
    "colab": {
      "provenance": []
    },
    "kernelspec": {
      "name": "python3",
      "display_name": "Python 3"
    },
    "language_info": {
      "name": "python"
    }
  },
  "cells": [
    {
      "cell_type": "code",
      "source": [
        "import tensorflow as tf\n",
        "import pandas as pd\n",
        "import numpy as np"
      ],
      "metadata": {
        "id": "DxllmwVvmdBD"
      },
      "execution_count": 14,
      "outputs": []
    },
    {
      "cell_type": "code",
      "source": [
        "data=pd.read_csv('breast-cancer.csv')\n",
        "data.head()"
      ],
      "metadata": {
        "colab": {
          "base_uri": "https://localhost:8080/",
          "height": 273
        },
        "id": "r_EiH2KSmgao",
        "outputId": "f01b3792-5c1f-4475-919e-c31f30f1da72"
      },
      "execution_count": 15,
      "outputs": [
        {
          "output_type": "execute_result",
          "data": {
            "text/plain": [
              "         id diagnosis  radius_mean  texture_mean  perimeter_mean  area_mean  \\\n",
              "0    842302         M        17.99         10.38          122.80     1001.0   \n",
              "1    842517         M        20.57         17.77          132.90     1326.0   \n",
              "2  84300903         M        19.69         21.25          130.00     1203.0   \n",
              "3  84348301         M        11.42         20.38           77.58      386.1   \n",
              "4  84358402         M        20.29         14.34          135.10     1297.0   \n",
              "\n",
              "   smoothness_mean  compactness_mean  concavity_mean  concave points_mean  \\\n",
              "0          0.11840           0.27760          0.3001              0.14710   \n",
              "1          0.08474           0.07864          0.0869              0.07017   \n",
              "2          0.10960           0.15990          0.1974              0.12790   \n",
              "3          0.14250           0.28390          0.2414              0.10520   \n",
              "4          0.10030           0.13280          0.1980              0.10430   \n",
              "\n",
              "   ...  radius_worst  texture_worst  perimeter_worst  area_worst  \\\n",
              "0  ...         25.38          17.33           184.60      2019.0   \n",
              "1  ...         24.99          23.41           158.80      1956.0   \n",
              "2  ...         23.57          25.53           152.50      1709.0   \n",
              "3  ...         14.91          26.50            98.87       567.7   \n",
              "4  ...         22.54          16.67           152.20      1575.0   \n",
              "\n",
              "   smoothness_worst  compactness_worst  concavity_worst  concave points_worst  \\\n",
              "0            0.1622             0.6656           0.7119                0.2654   \n",
              "1            0.1238             0.1866           0.2416                0.1860   \n",
              "2            0.1444             0.4245           0.4504                0.2430   \n",
              "3            0.2098             0.8663           0.6869                0.2575   \n",
              "4            0.1374             0.2050           0.4000                0.1625   \n",
              "\n",
              "   symmetry_worst  fractal_dimension_worst  \n",
              "0          0.4601                  0.11890  \n",
              "1          0.2750                  0.08902  \n",
              "2          0.3613                  0.08758  \n",
              "3          0.6638                  0.17300  \n",
              "4          0.2364                  0.07678  \n",
              "\n",
              "[5 rows x 32 columns]"
            ],
            "text/html": [
              "\n",
              "  <div id=\"df-db5c2f55-05f5-4727-bf35-a23733e66e88\" class=\"colab-df-container\">\n",
              "    <div>\n",
              "<style scoped>\n",
              "    .dataframe tbody tr th:only-of-type {\n",
              "        vertical-align: middle;\n",
              "    }\n",
              "\n",
              "    .dataframe tbody tr th {\n",
              "        vertical-align: top;\n",
              "    }\n",
              "\n",
              "    .dataframe thead th {\n",
              "        text-align: right;\n",
              "    }\n",
              "</style>\n",
              "<table border=\"1\" class=\"dataframe\">\n",
              "  <thead>\n",
              "    <tr style=\"text-align: right;\">\n",
              "      <th></th>\n",
              "      <th>id</th>\n",
              "      <th>diagnosis</th>\n",
              "      <th>radius_mean</th>\n",
              "      <th>texture_mean</th>\n",
              "      <th>perimeter_mean</th>\n",
              "      <th>area_mean</th>\n",
              "      <th>smoothness_mean</th>\n",
              "      <th>compactness_mean</th>\n",
              "      <th>concavity_mean</th>\n",
              "      <th>concave points_mean</th>\n",
              "      <th>...</th>\n",
              "      <th>radius_worst</th>\n",
              "      <th>texture_worst</th>\n",
              "      <th>perimeter_worst</th>\n",
              "      <th>area_worst</th>\n",
              "      <th>smoothness_worst</th>\n",
              "      <th>compactness_worst</th>\n",
              "      <th>concavity_worst</th>\n",
              "      <th>concave points_worst</th>\n",
              "      <th>symmetry_worst</th>\n",
              "      <th>fractal_dimension_worst</th>\n",
              "    </tr>\n",
              "  </thead>\n",
              "  <tbody>\n",
              "    <tr>\n",
              "      <th>0</th>\n",
              "      <td>842302</td>\n",
              "      <td>M</td>\n",
              "      <td>17.99</td>\n",
              "      <td>10.38</td>\n",
              "      <td>122.80</td>\n",
              "      <td>1001.0</td>\n",
              "      <td>0.11840</td>\n",
              "      <td>0.27760</td>\n",
              "      <td>0.3001</td>\n",
              "      <td>0.14710</td>\n",
              "      <td>...</td>\n",
              "      <td>25.38</td>\n",
              "      <td>17.33</td>\n",
              "      <td>184.60</td>\n",
              "      <td>2019.0</td>\n",
              "      <td>0.1622</td>\n",
              "      <td>0.6656</td>\n",
              "      <td>0.7119</td>\n",
              "      <td>0.2654</td>\n",
              "      <td>0.4601</td>\n",
              "      <td>0.11890</td>\n",
              "    </tr>\n",
              "    <tr>\n",
              "      <th>1</th>\n",
              "      <td>842517</td>\n",
              "      <td>M</td>\n",
              "      <td>20.57</td>\n",
              "      <td>17.77</td>\n",
              "      <td>132.90</td>\n",
              "      <td>1326.0</td>\n",
              "      <td>0.08474</td>\n",
              "      <td>0.07864</td>\n",
              "      <td>0.0869</td>\n",
              "      <td>0.07017</td>\n",
              "      <td>...</td>\n",
              "      <td>24.99</td>\n",
              "      <td>23.41</td>\n",
              "      <td>158.80</td>\n",
              "      <td>1956.0</td>\n",
              "      <td>0.1238</td>\n",
              "      <td>0.1866</td>\n",
              "      <td>0.2416</td>\n",
              "      <td>0.1860</td>\n",
              "      <td>0.2750</td>\n",
              "      <td>0.08902</td>\n",
              "    </tr>\n",
              "    <tr>\n",
              "      <th>2</th>\n",
              "      <td>84300903</td>\n",
              "      <td>M</td>\n",
              "      <td>19.69</td>\n",
              "      <td>21.25</td>\n",
              "      <td>130.00</td>\n",
              "      <td>1203.0</td>\n",
              "      <td>0.10960</td>\n",
              "      <td>0.15990</td>\n",
              "      <td>0.1974</td>\n",
              "      <td>0.12790</td>\n",
              "      <td>...</td>\n",
              "      <td>23.57</td>\n",
              "      <td>25.53</td>\n",
              "      <td>152.50</td>\n",
              "      <td>1709.0</td>\n",
              "      <td>0.1444</td>\n",
              "      <td>0.4245</td>\n",
              "      <td>0.4504</td>\n",
              "      <td>0.2430</td>\n",
              "      <td>0.3613</td>\n",
              "      <td>0.08758</td>\n",
              "    </tr>\n",
              "    <tr>\n",
              "      <th>3</th>\n",
              "      <td>84348301</td>\n",
              "      <td>M</td>\n",
              "      <td>11.42</td>\n",
              "      <td>20.38</td>\n",
              "      <td>77.58</td>\n",
              "      <td>386.1</td>\n",
              "      <td>0.14250</td>\n",
              "      <td>0.28390</td>\n",
              "      <td>0.2414</td>\n",
              "      <td>0.10520</td>\n",
              "      <td>...</td>\n",
              "      <td>14.91</td>\n",
              "      <td>26.50</td>\n",
              "      <td>98.87</td>\n",
              "      <td>567.7</td>\n",
              "      <td>0.2098</td>\n",
              "      <td>0.8663</td>\n",
              "      <td>0.6869</td>\n",
              "      <td>0.2575</td>\n",
              "      <td>0.6638</td>\n",
              "      <td>0.17300</td>\n",
              "    </tr>\n",
              "    <tr>\n",
              "      <th>4</th>\n",
              "      <td>84358402</td>\n",
              "      <td>M</td>\n",
              "      <td>20.29</td>\n",
              "      <td>14.34</td>\n",
              "      <td>135.10</td>\n",
              "      <td>1297.0</td>\n",
              "      <td>0.10030</td>\n",
              "      <td>0.13280</td>\n",
              "      <td>0.1980</td>\n",
              "      <td>0.10430</td>\n",
              "      <td>...</td>\n",
              "      <td>22.54</td>\n",
              "      <td>16.67</td>\n",
              "      <td>152.20</td>\n",
              "      <td>1575.0</td>\n",
              "      <td>0.1374</td>\n",
              "      <td>0.2050</td>\n",
              "      <td>0.4000</td>\n",
              "      <td>0.1625</td>\n",
              "      <td>0.2364</td>\n",
              "      <td>0.07678</td>\n",
              "    </tr>\n",
              "  </tbody>\n",
              "</table>\n",
              "<p>5 rows × 32 columns</p>\n",
              "</div>\n",
              "    <div class=\"colab-df-buttons\">\n",
              "\n",
              "  <div class=\"colab-df-container\">\n",
              "    <button class=\"colab-df-convert\" onclick=\"convertToInteractive('df-db5c2f55-05f5-4727-bf35-a23733e66e88')\"\n",
              "            title=\"Convert this dataframe to an interactive table.\"\n",
              "            style=\"display:none;\">\n",
              "\n",
              "  <svg xmlns=\"http://www.w3.org/2000/svg\" height=\"24px\" viewBox=\"0 -960 960 960\">\n",
              "    <path d=\"M120-120v-720h720v720H120Zm60-500h600v-160H180v160Zm220 220h160v-160H400v160Zm0 220h160v-160H400v160ZM180-400h160v-160H180v160Zm440 0h160v-160H620v160ZM180-180h160v-160H180v160Zm440 0h160v-160H620v160Z\"/>\n",
              "  </svg>\n",
              "    </button>\n",
              "\n",
              "  <style>\n",
              "    .colab-df-container {\n",
              "      display:flex;\n",
              "      gap: 12px;\n",
              "    }\n",
              "\n",
              "    .colab-df-convert {\n",
              "      background-color: #E8F0FE;\n",
              "      border: none;\n",
              "      border-radius: 50%;\n",
              "      cursor: pointer;\n",
              "      display: none;\n",
              "      fill: #1967D2;\n",
              "      height: 32px;\n",
              "      padding: 0 0 0 0;\n",
              "      width: 32px;\n",
              "    }\n",
              "\n",
              "    .colab-df-convert:hover {\n",
              "      background-color: #E2EBFA;\n",
              "      box-shadow: 0px 1px 2px rgba(60, 64, 67, 0.3), 0px 1px 3px 1px rgba(60, 64, 67, 0.15);\n",
              "      fill: #174EA6;\n",
              "    }\n",
              "\n",
              "    .colab-df-buttons div {\n",
              "      margin-bottom: 4px;\n",
              "    }\n",
              "\n",
              "    [theme=dark] .colab-df-convert {\n",
              "      background-color: #3B4455;\n",
              "      fill: #D2E3FC;\n",
              "    }\n",
              "\n",
              "    [theme=dark] .colab-df-convert:hover {\n",
              "      background-color: #434B5C;\n",
              "      box-shadow: 0px 1px 3px 1px rgba(0, 0, 0, 0.15);\n",
              "      filter: drop-shadow(0px 1px 2px rgba(0, 0, 0, 0.3));\n",
              "      fill: #FFFFFF;\n",
              "    }\n",
              "  </style>\n",
              "\n",
              "    <script>\n",
              "      const buttonEl =\n",
              "        document.querySelector('#df-db5c2f55-05f5-4727-bf35-a23733e66e88 button.colab-df-convert');\n",
              "      buttonEl.style.display =\n",
              "        google.colab.kernel.accessAllowed ? 'block' : 'none';\n",
              "\n",
              "      async function convertToInteractive(key) {\n",
              "        const element = document.querySelector('#df-db5c2f55-05f5-4727-bf35-a23733e66e88');\n",
              "        const dataTable =\n",
              "          await google.colab.kernel.invokeFunction('convertToInteractive',\n",
              "                                                    [key], {});\n",
              "        if (!dataTable) return;\n",
              "\n",
              "        const docLinkHtml = 'Like what you see? Visit the ' +\n",
              "          '<a target=\"_blank\" href=https://colab.research.google.com/notebooks/data_table.ipynb>data table notebook</a>'\n",
              "          + ' to learn more about interactive tables.';\n",
              "        element.innerHTML = '';\n",
              "        dataTable['output_type'] = 'display_data';\n",
              "        await google.colab.output.renderOutput(dataTable, element);\n",
              "        const docLink = document.createElement('div');\n",
              "        docLink.innerHTML = docLinkHtml;\n",
              "        element.appendChild(docLink);\n",
              "      }\n",
              "    </script>\n",
              "  </div>\n",
              "\n",
              "\n",
              "<div id=\"df-c0b16cd2-227b-413c-b906-1d934265d764\">\n",
              "  <button class=\"colab-df-quickchart\" onclick=\"quickchart('df-c0b16cd2-227b-413c-b906-1d934265d764')\"\n",
              "            title=\"Suggest charts\"\n",
              "            style=\"display:none;\">\n",
              "\n",
              "<svg xmlns=\"http://www.w3.org/2000/svg\" height=\"24px\"viewBox=\"0 0 24 24\"\n",
              "     width=\"24px\">\n",
              "    <g>\n",
              "        <path d=\"M19 3H5c-1.1 0-2 .9-2 2v14c0 1.1.9 2 2 2h14c1.1 0 2-.9 2-2V5c0-1.1-.9-2-2-2zM9 17H7v-7h2v7zm4 0h-2V7h2v10zm4 0h-2v-4h2v4z\"/>\n",
              "    </g>\n",
              "</svg>\n",
              "  </button>\n",
              "\n",
              "<style>\n",
              "  .colab-df-quickchart {\n",
              "      --bg-color: #E8F0FE;\n",
              "      --fill-color: #1967D2;\n",
              "      --hover-bg-color: #E2EBFA;\n",
              "      --hover-fill-color: #174EA6;\n",
              "      --disabled-fill-color: #AAA;\n",
              "      --disabled-bg-color: #DDD;\n",
              "  }\n",
              "\n",
              "  [theme=dark] .colab-df-quickchart {\n",
              "      --bg-color: #3B4455;\n",
              "      --fill-color: #D2E3FC;\n",
              "      --hover-bg-color: #434B5C;\n",
              "      --hover-fill-color: #FFFFFF;\n",
              "      --disabled-bg-color: #3B4455;\n",
              "      --disabled-fill-color: #666;\n",
              "  }\n",
              "\n",
              "  .colab-df-quickchart {\n",
              "    background-color: var(--bg-color);\n",
              "    border: none;\n",
              "    border-radius: 50%;\n",
              "    cursor: pointer;\n",
              "    display: none;\n",
              "    fill: var(--fill-color);\n",
              "    height: 32px;\n",
              "    padding: 0;\n",
              "    width: 32px;\n",
              "  }\n",
              "\n",
              "  .colab-df-quickchart:hover {\n",
              "    background-color: var(--hover-bg-color);\n",
              "    box-shadow: 0 1px 2px rgba(60, 64, 67, 0.3), 0 1px 3px 1px rgba(60, 64, 67, 0.15);\n",
              "    fill: var(--button-hover-fill-color);\n",
              "  }\n",
              "\n",
              "  .colab-df-quickchart-complete:disabled,\n",
              "  .colab-df-quickchart-complete:disabled:hover {\n",
              "    background-color: var(--disabled-bg-color);\n",
              "    fill: var(--disabled-fill-color);\n",
              "    box-shadow: none;\n",
              "  }\n",
              "\n",
              "  .colab-df-spinner {\n",
              "    border: 2px solid var(--fill-color);\n",
              "    border-color: transparent;\n",
              "    border-bottom-color: var(--fill-color);\n",
              "    animation:\n",
              "      spin 1s steps(1) infinite;\n",
              "  }\n",
              "\n",
              "  @keyframes spin {\n",
              "    0% {\n",
              "      border-color: transparent;\n",
              "      border-bottom-color: var(--fill-color);\n",
              "      border-left-color: var(--fill-color);\n",
              "    }\n",
              "    20% {\n",
              "      border-color: transparent;\n",
              "      border-left-color: var(--fill-color);\n",
              "      border-top-color: var(--fill-color);\n",
              "    }\n",
              "    30% {\n",
              "      border-color: transparent;\n",
              "      border-left-color: var(--fill-color);\n",
              "      border-top-color: var(--fill-color);\n",
              "      border-right-color: var(--fill-color);\n",
              "    }\n",
              "    40% {\n",
              "      border-color: transparent;\n",
              "      border-right-color: var(--fill-color);\n",
              "      border-top-color: var(--fill-color);\n",
              "    }\n",
              "    60% {\n",
              "      border-color: transparent;\n",
              "      border-right-color: var(--fill-color);\n",
              "    }\n",
              "    80% {\n",
              "      border-color: transparent;\n",
              "      border-right-color: var(--fill-color);\n",
              "      border-bottom-color: var(--fill-color);\n",
              "    }\n",
              "    90% {\n",
              "      border-color: transparent;\n",
              "      border-bottom-color: var(--fill-color);\n",
              "    }\n",
              "  }\n",
              "</style>\n",
              "\n",
              "  <script>\n",
              "    async function quickchart(key) {\n",
              "      const quickchartButtonEl =\n",
              "        document.querySelector('#' + key + ' button');\n",
              "      quickchartButtonEl.disabled = true;  // To prevent multiple clicks.\n",
              "      quickchartButtonEl.classList.add('colab-df-spinner');\n",
              "      try {\n",
              "        const charts = await google.colab.kernel.invokeFunction(\n",
              "            'suggestCharts', [key], {});\n",
              "      } catch (error) {\n",
              "        console.error('Error during call to suggestCharts:', error);\n",
              "      }\n",
              "      quickchartButtonEl.classList.remove('colab-df-spinner');\n",
              "      quickchartButtonEl.classList.add('colab-df-quickchart-complete');\n",
              "    }\n",
              "    (() => {\n",
              "      let quickchartButtonEl =\n",
              "        document.querySelector('#df-c0b16cd2-227b-413c-b906-1d934265d764 button');\n",
              "      quickchartButtonEl.style.display =\n",
              "        google.colab.kernel.accessAllowed ? 'block' : 'none';\n",
              "    })();\n",
              "  </script>\n",
              "</div>\n",
              "\n",
              "    </div>\n",
              "  </div>\n"
            ],
            "application/vnd.google.colaboratory.intrinsic+json": {
              "type": "dataframe",
              "variable_name": "data"
            }
          },
          "metadata": {},
          "execution_count": 15
        }
      ]
    },
    {
      "cell_type": "code",
      "source": [
        "data['diagnosis']=data['diagnosis'].map({'M':1,'B':0})"
      ],
      "metadata": {
        "id": "gcgKFxdFncoq"
      },
      "execution_count": 16,
      "outputs": []
    },
    {
      "cell_type": "code",
      "source": [
        "from sklearn.model_selection import train_test_split\n",
        "X_train,X_test,y_train,y_test=train_test_split(data.drop('diagnosis',axis=1),data['diagnosis'],test_size=0.2)"
      ],
      "metadata": {
        "id": "Aokj2lV-nMcC"
      },
      "execution_count": 17,
      "outputs": []
    },
    {
      "cell_type": "code",
      "source": [
        "X_train.shape"
      ],
      "metadata": {
        "colab": {
          "base_uri": "https://localhost:8080/"
        },
        "id": "yeYNXTVena8Y",
        "outputId": "5533340d-1724-4da4-e67e-ab6cc1a7ffc9"
      },
      "execution_count": 18,
      "outputs": [
        {
          "output_type": "execute_result",
          "data": {
            "text/plain": [
              "(455, 31)"
            ]
          },
          "metadata": {},
          "execution_count": 18
        }
      ]
    },
    {
      "cell_type": "code",
      "source": [
        "ft=X_train.columns\n",
        "from sklearn.compose import ColumnTransformer\n",
        "from sklearn.preprocessing import StandardScaler\n",
        "transform=ColumnTransformer([\n",
        "    ('scale',StandardScaler(),ft)\n",
        "    ],remainder='passthrough')"
      ],
      "metadata": {
        "id": "MBUCbrigoehS"
      },
      "execution_count": 38,
      "outputs": []
    },
    {
      "cell_type": "code",
      "source": [
        "transform.fit(X_train)\n",
        "X_train=transform.transform(X_train)\n",
        "X_test=transform.transform(X_test)"
      ],
      "metadata": {
        "id": "zXdf4VAOoiyV"
      },
      "execution_count": 39,
      "outputs": []
    },
    {
      "cell_type": "markdown",
      "source": [
        "### In deep learning there is no need for feature Engineering"
      ],
      "metadata": {
        "id": "F0A-YbzFmwYE"
      }
    },
    {
      "cell_type": "code",
      "source": [
        "model=tf.keras.Sequential([\n",
        "    tf.keras.layers.Dense(31,input_shape=(31,),activation='relu'),\n",
        "\n",
        "    tf.keras.layers.Dense(1,activation='sigmoid')\n",
        "])\n"
      ],
      "metadata": {
        "id": "xwC__1gsm62G"
      },
      "execution_count": 40,
      "outputs": []
    },
    {
      "cell_type": "code",
      "source": [
        "model.summary()"
      ],
      "metadata": {
        "colab": {
          "base_uri": "https://localhost:8080/"
        },
        "id": "qKp6W2HhnCX7",
        "outputId": "fa45235e-6460-49d2-f4ab-cb6bb21199e2"
      },
      "execution_count": 41,
      "outputs": [
        {
          "output_type": "stream",
          "name": "stdout",
          "text": [
            "Model: \"sequential_5\"\n",
            "_________________________________________________________________\n",
            " Layer (type)                Output Shape              Param #   \n",
            "=================================================================\n",
            " dense_14 (Dense)            (None, 31)                992       \n",
            "                                                                 \n",
            " dense_15 (Dense)            (None, 1)                 32        \n",
            "                                                                 \n",
            "=================================================================\n",
            "Total params: 1024 (4.00 KB)\n",
            "Trainable params: 1024 (4.00 KB)\n",
            "Non-trainable params: 0 (0.00 Byte)\n",
            "_________________________________________________________________\n"
          ]
        }
      ]
    },
    {
      "cell_type": "code",
      "source": [
        "model.compile(optimizer='adam',loss='binary_crossentropy',metrics=['accuracy'])"
      ],
      "metadata": {
        "id": "5noS4YWFnDto"
      },
      "execution_count": 42,
      "outputs": []
    },
    {
      "cell_type": "code",
      "source": [
        "history=model.fit(X_train,y_train,epochs=100,validation_split=0.2)"
      ],
      "metadata": {
        "colab": {
          "base_uri": "https://localhost:8080/"
        },
        "id": "H1fGH841nwnB",
        "outputId": "9a664b66-dacd-4195-9982-2ea93e295e6d"
      },
      "execution_count": 43,
      "outputs": [
        {
          "output_type": "stream",
          "name": "stdout",
          "text": [
            "Epoch 1/100\n",
            "12/12 [==============================] - 1s 21ms/step - loss: 0.6129 - accuracy: 0.6374 - val_loss: 0.5011 - val_accuracy: 0.8242\n",
            "Epoch 2/100\n",
            "12/12 [==============================] - 0s 7ms/step - loss: 0.4468 - accuracy: 0.8407 - val_loss: 0.3867 - val_accuracy: 0.9341\n",
            "Epoch 3/100\n",
            "12/12 [==============================] - 0s 6ms/step - loss: 0.3463 - accuracy: 0.9396 - val_loss: 0.3145 - val_accuracy: 0.9560\n",
            "Epoch 4/100\n",
            "12/12 [==============================] - 0s 6ms/step - loss: 0.2824 - accuracy: 0.9478 - val_loss: 0.2640 - val_accuracy: 0.9670\n",
            "Epoch 5/100\n",
            "12/12 [==============================] - 0s 7ms/step - loss: 0.2389 - accuracy: 0.9505 - val_loss: 0.2281 - val_accuracy: 0.9670\n",
            "Epoch 6/100\n",
            "12/12 [==============================] - 0s 5ms/step - loss: 0.2073 - accuracy: 0.9533 - val_loss: 0.2029 - val_accuracy: 0.9670\n",
            "Epoch 7/100\n",
            "12/12 [==============================] - 0s 7ms/step - loss: 0.1838 - accuracy: 0.9533 - val_loss: 0.1845 - val_accuracy: 0.9670\n",
            "Epoch 8/100\n",
            "12/12 [==============================] - 0s 9ms/step - loss: 0.1664 - accuracy: 0.9560 - val_loss: 0.1702 - val_accuracy: 0.9670\n",
            "Epoch 9/100\n",
            "12/12 [==============================] - 0s 7ms/step - loss: 0.1520 - accuracy: 0.9588 - val_loss: 0.1601 - val_accuracy: 0.9670\n",
            "Epoch 10/100\n",
            "12/12 [==============================] - 0s 9ms/step - loss: 0.1408 - accuracy: 0.9588 - val_loss: 0.1522 - val_accuracy: 0.9670\n",
            "Epoch 11/100\n",
            "12/12 [==============================] - 0s 7ms/step - loss: 0.1314 - accuracy: 0.9643 - val_loss: 0.1459 - val_accuracy: 0.9670\n",
            "Epoch 12/100\n",
            "12/12 [==============================] - 0s 6ms/step - loss: 0.1232 - accuracy: 0.9643 - val_loss: 0.1413 - val_accuracy: 0.9670\n",
            "Epoch 13/100\n",
            "12/12 [==============================] - 0s 6ms/step - loss: 0.1167 - accuracy: 0.9670 - val_loss: 0.1374 - val_accuracy: 0.9670\n",
            "Epoch 14/100\n",
            "12/12 [==============================] - 0s 7ms/step - loss: 0.1108 - accuracy: 0.9698 - val_loss: 0.1340 - val_accuracy: 0.9670\n",
            "Epoch 15/100\n",
            "12/12 [==============================] - 0s 5ms/step - loss: 0.1059 - accuracy: 0.9698 - val_loss: 0.1311 - val_accuracy: 0.9670\n",
            "Epoch 16/100\n",
            "12/12 [==============================] - 0s 7ms/step - loss: 0.1013 - accuracy: 0.9725 - val_loss: 0.1288 - val_accuracy: 0.9670\n",
            "Epoch 17/100\n",
            "12/12 [==============================] - 0s 7ms/step - loss: 0.0971 - accuracy: 0.9725 - val_loss: 0.1272 - val_accuracy: 0.9670\n",
            "Epoch 18/100\n",
            "12/12 [==============================] - 0s 6ms/step - loss: 0.0936 - accuracy: 0.9725 - val_loss: 0.1254 - val_accuracy: 0.9670\n",
            "Epoch 19/100\n",
            "12/12 [==============================] - 0s 7ms/step - loss: 0.0904 - accuracy: 0.9725 - val_loss: 0.1243 - val_accuracy: 0.9670\n",
            "Epoch 20/100\n",
            "12/12 [==============================] - 0s 8ms/step - loss: 0.0872 - accuracy: 0.9753 - val_loss: 0.1228 - val_accuracy: 0.9670\n",
            "Epoch 21/100\n",
            "12/12 [==============================] - 0s 7ms/step - loss: 0.0842 - accuracy: 0.9753 - val_loss: 0.1217 - val_accuracy: 0.9670\n",
            "Epoch 22/100\n",
            "12/12 [==============================] - 0s 7ms/step - loss: 0.0816 - accuracy: 0.9753 - val_loss: 0.1207 - val_accuracy: 0.9670\n",
            "Epoch 23/100\n",
            "12/12 [==============================] - 0s 7ms/step - loss: 0.0791 - accuracy: 0.9753 - val_loss: 0.1200 - val_accuracy: 0.9670\n",
            "Epoch 24/100\n",
            "12/12 [==============================] - 0s 6ms/step - loss: 0.0767 - accuracy: 0.9753 - val_loss: 0.1195 - val_accuracy: 0.9670\n",
            "Epoch 25/100\n",
            "12/12 [==============================] - 0s 6ms/step - loss: 0.0745 - accuracy: 0.9753 - val_loss: 0.1187 - val_accuracy: 0.9670\n",
            "Epoch 26/100\n",
            "12/12 [==============================] - 0s 7ms/step - loss: 0.0724 - accuracy: 0.9780 - val_loss: 0.1183 - val_accuracy: 0.9670\n",
            "Epoch 27/100\n",
            "12/12 [==============================] - 0s 5ms/step - loss: 0.0707 - accuracy: 0.9780 - val_loss: 0.1177 - val_accuracy: 0.9670\n",
            "Epoch 28/100\n",
            "12/12 [==============================] - 0s 7ms/step - loss: 0.0690 - accuracy: 0.9808 - val_loss: 0.1171 - val_accuracy: 0.9670\n",
            "Epoch 29/100\n",
            "12/12 [==============================] - 0s 6ms/step - loss: 0.0671 - accuracy: 0.9808 - val_loss: 0.1171 - val_accuracy: 0.9670\n",
            "Epoch 30/100\n",
            "12/12 [==============================] - 0s 5ms/step - loss: 0.0656 - accuracy: 0.9808 - val_loss: 0.1168 - val_accuracy: 0.9670\n",
            "Epoch 31/100\n",
            "12/12 [==============================] - 0s 5ms/step - loss: 0.0639 - accuracy: 0.9808 - val_loss: 0.1163 - val_accuracy: 0.9670\n",
            "Epoch 32/100\n",
            "12/12 [==============================] - 0s 7ms/step - loss: 0.0623 - accuracy: 0.9808 - val_loss: 0.1159 - val_accuracy: 0.9670\n",
            "Epoch 33/100\n",
            "12/12 [==============================] - 0s 8ms/step - loss: 0.0610 - accuracy: 0.9808 - val_loss: 0.1160 - val_accuracy: 0.9670\n",
            "Epoch 34/100\n",
            "12/12 [==============================] - 0s 6ms/step - loss: 0.0598 - accuracy: 0.9808 - val_loss: 0.1153 - val_accuracy: 0.9670\n",
            "Epoch 35/100\n",
            "12/12 [==============================] - 0s 7ms/step - loss: 0.0584 - accuracy: 0.9808 - val_loss: 0.1156 - val_accuracy: 0.9670\n",
            "Epoch 36/100\n",
            "12/12 [==============================] - 0s 11ms/step - loss: 0.0572 - accuracy: 0.9808 - val_loss: 0.1154 - val_accuracy: 0.9670\n",
            "Epoch 37/100\n",
            "12/12 [==============================] - 0s 8ms/step - loss: 0.0558 - accuracy: 0.9835 - val_loss: 0.1150 - val_accuracy: 0.9670\n",
            "Epoch 38/100\n",
            "12/12 [==============================] - 0s 10ms/step - loss: 0.0545 - accuracy: 0.9835 - val_loss: 0.1151 - val_accuracy: 0.9670\n",
            "Epoch 39/100\n",
            "12/12 [==============================] - 0s 7ms/step - loss: 0.0536 - accuracy: 0.9835 - val_loss: 0.1150 - val_accuracy: 0.9670\n",
            "Epoch 40/100\n",
            "12/12 [==============================] - 0s 12ms/step - loss: 0.0525 - accuracy: 0.9835 - val_loss: 0.1150 - val_accuracy: 0.9670\n",
            "Epoch 41/100\n",
            "12/12 [==============================] - 0s 7ms/step - loss: 0.0515 - accuracy: 0.9835 - val_loss: 0.1157 - val_accuracy: 0.9670\n",
            "Epoch 42/100\n",
            "12/12 [==============================] - 0s 11ms/step - loss: 0.0505 - accuracy: 0.9835 - val_loss: 0.1157 - val_accuracy: 0.9670\n",
            "Epoch 43/100\n",
            "12/12 [==============================] - 0s 14ms/step - loss: 0.0495 - accuracy: 0.9863 - val_loss: 0.1160 - val_accuracy: 0.9670\n",
            "Epoch 44/100\n",
            "12/12 [==============================] - 0s 7ms/step - loss: 0.0487 - accuracy: 0.9863 - val_loss: 0.1156 - val_accuracy: 0.9670\n",
            "Epoch 45/100\n",
            "12/12 [==============================] - 0s 8ms/step - loss: 0.0478 - accuracy: 0.9863 - val_loss: 0.1160 - val_accuracy: 0.9670\n",
            "Epoch 46/100\n",
            "12/12 [==============================] - 0s 6ms/step - loss: 0.0469 - accuracy: 0.9863 - val_loss: 0.1165 - val_accuracy: 0.9670\n",
            "Epoch 47/100\n",
            "12/12 [==============================] - 0s 8ms/step - loss: 0.0461 - accuracy: 0.9890 - val_loss: 0.1150 - val_accuracy: 0.9780\n",
            "Epoch 48/100\n",
            "12/12 [==============================] - 0s 8ms/step - loss: 0.0452 - accuracy: 0.9890 - val_loss: 0.1148 - val_accuracy: 0.9780\n",
            "Epoch 49/100\n",
            "12/12 [==============================] - 0s 8ms/step - loss: 0.0444 - accuracy: 0.9890 - val_loss: 0.1151 - val_accuracy: 0.9670\n",
            "Epoch 50/100\n",
            "12/12 [==============================] - 0s 9ms/step - loss: 0.0436 - accuracy: 0.9890 - val_loss: 0.1157 - val_accuracy: 0.9670\n",
            "Epoch 51/100\n",
            "12/12 [==============================] - 0s 11ms/step - loss: 0.0428 - accuracy: 0.9890 - val_loss: 0.1160 - val_accuracy: 0.9670\n",
            "Epoch 52/100\n",
            "12/12 [==============================] - 0s 16ms/step - loss: 0.0422 - accuracy: 0.9890 - val_loss: 0.1160 - val_accuracy: 0.9670\n",
            "Epoch 53/100\n",
            "12/12 [==============================] - 0s 20ms/step - loss: 0.0414 - accuracy: 0.9890 - val_loss: 0.1163 - val_accuracy: 0.9780\n",
            "Epoch 54/100\n",
            "12/12 [==============================] - 0s 12ms/step - loss: 0.0407 - accuracy: 0.9890 - val_loss: 0.1167 - val_accuracy: 0.9780\n",
            "Epoch 55/100\n",
            "12/12 [==============================] - 0s 8ms/step - loss: 0.0402 - accuracy: 0.9890 - val_loss: 0.1172 - val_accuracy: 0.9780\n",
            "Epoch 56/100\n",
            "12/12 [==============================] - 0s 15ms/step - loss: 0.0396 - accuracy: 0.9890 - val_loss: 0.1166 - val_accuracy: 0.9780\n",
            "Epoch 57/100\n",
            "12/12 [==============================] - 0s 15ms/step - loss: 0.0390 - accuracy: 0.9890 - val_loss: 0.1167 - val_accuracy: 0.9780\n",
            "Epoch 58/100\n",
            "12/12 [==============================] - 0s 8ms/step - loss: 0.0384 - accuracy: 0.9890 - val_loss: 0.1174 - val_accuracy: 0.9780\n",
            "Epoch 59/100\n",
            "12/12 [==============================] - 0s 8ms/step - loss: 0.0376 - accuracy: 0.9890 - val_loss: 0.1168 - val_accuracy: 0.9780\n",
            "Epoch 60/100\n",
            "12/12 [==============================] - 0s 15ms/step - loss: 0.0373 - accuracy: 0.9890 - val_loss: 0.1163 - val_accuracy: 0.9780\n",
            "Epoch 61/100\n",
            "12/12 [==============================] - 0s 8ms/step - loss: 0.0366 - accuracy: 0.9918 - val_loss: 0.1168 - val_accuracy: 0.9780\n",
            "Epoch 62/100\n",
            "12/12 [==============================] - 0s 15ms/step - loss: 0.0362 - accuracy: 0.9890 - val_loss: 0.1182 - val_accuracy: 0.9780\n",
            "Epoch 63/100\n",
            "12/12 [==============================] - 0s 9ms/step - loss: 0.0355 - accuracy: 0.9890 - val_loss: 0.1181 - val_accuracy: 0.9780\n",
            "Epoch 64/100\n",
            "12/12 [==============================] - 0s 13ms/step - loss: 0.0350 - accuracy: 0.9890 - val_loss: 0.1185 - val_accuracy: 0.9780\n",
            "Epoch 65/100\n",
            "12/12 [==============================] - 0s 9ms/step - loss: 0.0344 - accuracy: 0.9918 - val_loss: 0.1186 - val_accuracy: 0.9780\n",
            "Epoch 66/100\n",
            "12/12 [==============================] - 0s 18ms/step - loss: 0.0340 - accuracy: 0.9918 - val_loss: 0.1192 - val_accuracy: 0.9780\n",
            "Epoch 67/100\n",
            "12/12 [==============================] - 0s 12ms/step - loss: 0.0335 - accuracy: 0.9918 - val_loss: 0.1197 - val_accuracy: 0.9780\n",
            "Epoch 68/100\n",
            "12/12 [==============================] - 0s 10ms/step - loss: 0.0330 - accuracy: 0.9918 - val_loss: 0.1200 - val_accuracy: 0.9780\n",
            "Epoch 69/100\n",
            "12/12 [==============================] - 0s 16ms/step - loss: 0.0327 - accuracy: 0.9918 - val_loss: 0.1206 - val_accuracy: 0.9780\n",
            "Epoch 70/100\n",
            "12/12 [==============================] - 0s 12ms/step - loss: 0.0322 - accuracy: 0.9918 - val_loss: 0.1214 - val_accuracy: 0.9780\n",
            "Epoch 71/100\n",
            "12/12 [==============================] - 0s 9ms/step - loss: 0.0318 - accuracy: 0.9918 - val_loss: 0.1221 - val_accuracy: 0.9780\n",
            "Epoch 72/100\n",
            "12/12 [==============================] - 0s 10ms/step - loss: 0.0314 - accuracy: 0.9945 - val_loss: 0.1227 - val_accuracy: 0.9780\n",
            "Epoch 73/100\n",
            "12/12 [==============================] - 0s 16ms/step - loss: 0.0309 - accuracy: 0.9945 - val_loss: 0.1226 - val_accuracy: 0.9780\n",
            "Epoch 74/100\n",
            "12/12 [==============================] - 0s 9ms/step - loss: 0.0305 - accuracy: 0.9945 - val_loss: 0.1232 - val_accuracy: 0.9780\n",
            "Epoch 75/100\n",
            "12/12 [==============================] - 0s 7ms/step - loss: 0.0301 - accuracy: 0.9945 - val_loss: 0.1235 - val_accuracy: 0.9780\n",
            "Epoch 76/100\n",
            "12/12 [==============================] - 0s 6ms/step - loss: 0.0297 - accuracy: 0.9945 - val_loss: 0.1234 - val_accuracy: 0.9780\n",
            "Epoch 77/100\n",
            "12/12 [==============================] - 0s 6ms/step - loss: 0.0293 - accuracy: 0.9945 - val_loss: 0.1233 - val_accuracy: 0.9780\n",
            "Epoch 78/100\n",
            "12/12 [==============================] - 0s 5ms/step - loss: 0.0289 - accuracy: 0.9945 - val_loss: 0.1239 - val_accuracy: 0.9780\n",
            "Epoch 79/100\n",
            "12/12 [==============================] - 0s 6ms/step - loss: 0.0286 - accuracy: 0.9945 - val_loss: 0.1243 - val_accuracy: 0.9780\n",
            "Epoch 80/100\n",
            "12/12 [==============================] - 0s 7ms/step - loss: 0.0280 - accuracy: 0.9945 - val_loss: 0.1241 - val_accuracy: 0.9780\n",
            "Epoch 81/100\n",
            "12/12 [==============================] - 0s 6ms/step - loss: 0.0277 - accuracy: 0.9945 - val_loss: 0.1240 - val_accuracy: 0.9780\n",
            "Epoch 82/100\n",
            "12/12 [==============================] - 0s 5ms/step - loss: 0.0274 - accuracy: 0.9945 - val_loss: 0.1242 - val_accuracy: 0.9780\n",
            "Epoch 83/100\n",
            "12/12 [==============================] - 0s 4ms/step - loss: 0.0269 - accuracy: 0.9945 - val_loss: 0.1250 - val_accuracy: 0.9780\n",
            "Epoch 84/100\n",
            "12/12 [==============================] - 0s 6ms/step - loss: 0.0266 - accuracy: 0.9945 - val_loss: 0.1254 - val_accuracy: 0.9780\n",
            "Epoch 85/100\n",
            "12/12 [==============================] - 0s 5ms/step - loss: 0.0262 - accuracy: 0.9945 - val_loss: 0.1256 - val_accuracy: 0.9780\n",
            "Epoch 86/100\n",
            "12/12 [==============================] - 0s 4ms/step - loss: 0.0259 - accuracy: 0.9945 - val_loss: 0.1262 - val_accuracy: 0.9780\n",
            "Epoch 87/100\n",
            "12/12 [==============================] - 0s 5ms/step - loss: 0.0255 - accuracy: 0.9945 - val_loss: 0.1263 - val_accuracy: 0.9780\n",
            "Epoch 88/100\n",
            "12/12 [==============================] - 0s 6ms/step - loss: 0.0252 - accuracy: 0.9945 - val_loss: 0.1270 - val_accuracy: 0.9780\n",
            "Epoch 89/100\n",
            "12/12 [==============================] - 0s 6ms/step - loss: 0.0249 - accuracy: 0.9945 - val_loss: 0.1276 - val_accuracy: 0.9780\n",
            "Epoch 90/100\n",
            "12/12 [==============================] - 0s 6ms/step - loss: 0.0245 - accuracy: 0.9945 - val_loss: 0.1286 - val_accuracy: 0.9780\n",
            "Epoch 91/100\n",
            "12/12 [==============================] - 0s 6ms/step - loss: 0.0242 - accuracy: 0.9945 - val_loss: 0.1288 - val_accuracy: 0.9780\n",
            "Epoch 92/100\n",
            "12/12 [==============================] - 0s 5ms/step - loss: 0.0238 - accuracy: 0.9945 - val_loss: 0.1278 - val_accuracy: 0.9780\n",
            "Epoch 93/100\n",
            "12/12 [==============================] - 0s 6ms/step - loss: 0.0236 - accuracy: 0.9945 - val_loss: 0.1282 - val_accuracy: 0.9670\n",
            "Epoch 94/100\n",
            "12/12 [==============================] - 0s 7ms/step - loss: 0.0233 - accuracy: 0.9945 - val_loss: 0.1282 - val_accuracy: 0.9670\n",
            "Epoch 95/100\n",
            "12/12 [==============================] - 0s 6ms/step - loss: 0.0229 - accuracy: 0.9945 - val_loss: 0.1293 - val_accuracy: 0.9670\n",
            "Epoch 96/100\n",
            "12/12 [==============================] - 0s 6ms/step - loss: 0.0227 - accuracy: 0.9945 - val_loss: 0.1300 - val_accuracy: 0.9670\n",
            "Epoch 97/100\n",
            "12/12 [==============================] - 0s 5ms/step - loss: 0.0223 - accuracy: 0.9945 - val_loss: 0.1301 - val_accuracy: 0.9670\n",
            "Epoch 98/100\n",
            "12/12 [==============================] - 0s 5ms/step - loss: 0.0220 - accuracy: 0.9945 - val_loss: 0.1307 - val_accuracy: 0.9670\n",
            "Epoch 99/100\n",
            "12/12 [==============================] - 0s 5ms/step - loss: 0.0217 - accuracy: 0.9945 - val_loss: 0.1310 - val_accuracy: 0.9670\n",
            "Epoch 100/100\n",
            "12/12 [==============================] - 0s 6ms/step - loss: 0.0214 - accuracy: 0.9945 - val_loss: 0.1314 - val_accuracy: 0.9670\n"
          ]
        }
      ]
    },
    {
      "cell_type": "code",
      "source": [
        "import matplotlib.pyplot as plt\n",
        "plt.figure(figsize=(5,5))\n",
        "pd.DataFrame(history.history).plot(figsize=(10,7))"
      ],
      "metadata": {
        "colab": {
          "base_uri": "https://localhost:8080/",
          "height": 634
        },
        "id": "WHXobV02o0QF",
        "outputId": "1230ae29-4d2c-44f6-a463-febe99bd2947"
      },
      "execution_count": 48,
      "outputs": [
        {
          "output_type": "execute_result",
          "data": {
            "text/plain": [
              "<Axes: >"
            ]
          },
          "metadata": {},
          "execution_count": 48
        },
        {
          "output_type": "display_data",
          "data": {
            "text/plain": [
              "<Figure size 500x500 with 0 Axes>"
            ]
          },
          "metadata": {}
        },
        {
          "output_type": "display_data",
          "data": {
            "text/plain": [
              "<Figure size 1000x700 with 1 Axes>"
            ],
            "image/png": "[encoded data removed]"
          },
          "metadata": {}
        }
      ]
    },
    {
      "cell_type": "markdown",
      "source": [
        "## Above model is clearly a case of overfitting"
      ],
      "metadata": {
        "id": "9NpF5pMlo1KG"
      }
    },
    {
      "cell_type": "markdown",
      "source": [
        "## Applying L1L2 regularization and dropout to increase generalization and reduce overfitting"
      ],
      "metadata": {
        "id": "Z2rQ3NDOsoI_"
      }
    },
    {
      "cell_type": "code",
      "source": [
        "model_2=tf.keras.Sequential([\n",
        "    tf.keras.layers.Dense(31,input_shape=(31,),activation='relu',kernel_regularizer=tf.keras.regularizers.L1L2(l1=0.01, l2=0.01)),\n",
        "    tf.keras.layers.Dropout(0.2),\n",
        "    tf.keras.layers.Dense(3),\n",
        "    tf.keras.layers.Dense(1,activation='sigmoid')\n",
        "])"
      ],
      "metadata": {
        "id": "q-NkCbtcqNBg"
      },
      "execution_count": 61,
      "outputs": []
    },
    {
      "cell_type": "code",
      "source": [
        "model_2.summary()"
      ],
      "metadata": {
        "colab": {
          "base_uri": "https://localhost:8080/"
        },
        "id": "FbvB83_Wpw5t",
        "outputId": "56242962-79e5-4c87-898c-e1b7e5c0afbd"
      },
      "execution_count": 62,
      "outputs": [
        {
          "output_type": "stream",
          "name": "stdout",
          "text": [
            "Model: \"sequential_11\"\n",
            "_________________________________________________________________\n",
            " Layer (type)                Output Shape              Param #   \n",
            "=================================================================\n",
            " dense_28 (Dense)            (None, 31)                992       \n",
            "                                                                 \n",
            " dropout_5 (Dropout)         (None, 31)                0         \n",
            "                                                                 \n",
            " dense_29 (Dense)            (None, 3)                 96        \n",
            "                                                                 \n",
            " dense_30 (Dense)            (None, 1)                 4         \n",
            "                                                                 \n",
            "=================================================================\n",
            "Total params: 1092 (4.27 KB)\n",
            "Trainable params: 1092 (4.27 KB)\n",
            "Non-trainable params: 0 (0.00 Byte)\n",
            "_________________________________________________________________\n"
          ]
        }
      ]
    },
    {
      "cell_type": "code",
      "source": [
        "model_2.compile(optimizer='adam',loss='binary_crossentropy',metrics=['accuracy'])\n",
        "history_2=model_2.fit(X_train,y_train,epochs=80,validation_split=0.2)"
      ],
      "metadata": {
        "colab": {
          "base_uri": "https://localhost:8080/"
        },
        "id": "AUHoWbaCqARN",
        "outputId": "70b4ff0a-ed0d-44ed-be42-906cb7055b4e"
      },
      "execution_count": 63,
      "outputs": [
        {
          "output_type": "stream",
          "name": "stdout",
          "text": [
            "Epoch 1/80\n",
            "12/12 [==============================] - 1s 21ms/step - loss: 2.2542 - accuracy: 0.7720 - val_loss: 1.9764 - val_accuracy: 0.9341\n",
            "Epoch 2/80\n",
            "12/12 [==============================] - 0s 6ms/step - loss: 1.9943 - accuracy: 0.8874 - val_loss: 1.8441 - val_accuracy: 0.9451\n",
            "Epoch 3/80\n",
            "12/12 [==============================] - 0s 5ms/step - loss: 1.8568 - accuracy: 0.9066 - val_loss: 1.7412 - val_accuracy: 0.9560\n",
            "Epoch 4/80\n",
            "12/12 [==============================] - 0s 5ms/step - loss: 1.7049 - accuracy: 0.9286 - val_loss: 1.6452 - val_accuracy: 0.9560\n",
            "Epoch 5/80\n",
            "12/12 [==============================] - 0s 6ms/step - loss: 1.6077 - accuracy: 0.9286 - val_loss: 1.5522 - val_accuracy: 0.9560\n",
            "Epoch 6/80\n",
            "12/12 [==============================] - 0s 7ms/step - loss: 1.5014 - accuracy: 0.9451 - val_loss: 1.4630 - val_accuracy: 0.9560\n",
            "Epoch 7/80\n",
            "12/12 [==============================] - 0s 6ms/step - loss: 1.4174 - accuracy: 0.9478 - val_loss: 1.3785 - val_accuracy: 0.9560\n",
            "Epoch 8/80\n",
            "12/12 [==============================] - 0s 6ms/step - loss: 1.3292 - accuracy: 0.9533 - val_loss: 1.2955 - val_accuracy: 0.9560\n",
            "Epoch 9/80\n",
            "12/12 [==============================] - 0s 8ms/step - loss: 1.2413 - accuracy: 0.9588 - val_loss: 1.2168 - val_accuracy: 0.9560\n",
            "Epoch 10/80\n",
            "12/12 [==============================] - 0s 7ms/step - loss: 1.1669 - accuracy: 0.9643 - val_loss: 1.1429 - val_accuracy: 0.9560\n",
            "Epoch 11/80\n",
            "12/12 [==============================] - 0s 7ms/step - loss: 1.1001 - accuracy: 0.9478 - val_loss: 1.0724 - val_accuracy: 0.9560\n",
            "Epoch 12/80\n",
            "12/12 [==============================] - 0s 8ms/step - loss: 1.0114 - accuracy: 0.9643 - val_loss: 1.0033 - val_accuracy: 0.9560\n",
            "Epoch 13/80\n",
            "12/12 [==============================] - 0s 7ms/step - loss: 0.9527 - accuracy: 0.9505 - val_loss: 0.9371 - val_accuracy: 0.9560\n",
            "Epoch 14/80\n",
            "12/12 [==============================] - 0s 8ms/step - loss: 0.8855 - accuracy: 0.9670 - val_loss: 0.8766 - val_accuracy: 0.9560\n",
            "Epoch 15/80\n",
            "12/12 [==============================] - 0s 8ms/step - loss: 0.8126 - accuracy: 0.9780 - val_loss: 0.8190 - val_accuracy: 0.9560\n",
            "Epoch 16/80\n",
            "12/12 [==============================] - 0s 9ms/step - loss: 0.7642 - accuracy: 0.9753 - val_loss: 0.7656 - val_accuracy: 0.9560\n",
            "Epoch 17/80\n",
            "12/12 [==============================] - 0s 12ms/step - loss: 0.7066 - accuracy: 0.9725 - val_loss: 0.7187 - val_accuracy: 0.9560\n",
            "Epoch 18/80\n",
            "12/12 [==============================] - 0s 7ms/step - loss: 0.6670 - accuracy: 0.9753 - val_loss: 0.6736 - val_accuracy: 0.9560\n",
            "Epoch 19/80\n",
            "12/12 [==============================] - 0s 7ms/step - loss: 0.6431 - accuracy: 0.9615 - val_loss: 0.6332 - val_accuracy: 0.9560\n",
            "Epoch 20/80\n",
            "12/12 [==============================] - 0s 8ms/step - loss: 0.5715 - accuracy: 0.9753 - val_loss: 0.5912 - val_accuracy: 0.9560\n",
            "Epoch 21/80\n",
            "12/12 [==============================] - 0s 6ms/step - loss: 0.5328 - accuracy: 0.9808 - val_loss: 0.5522 - val_accuracy: 0.9560\n",
            "Epoch 22/80\n",
            "12/12 [==============================] - 0s 8ms/step - loss: 0.5045 - accuracy: 0.9698 - val_loss: 0.5157 - val_accuracy: 0.9560\n",
            "Epoch 23/80\n",
            "12/12 [==============================] - 0s 8ms/step - loss: 0.4738 - accuracy: 0.9725 - val_loss: 0.4821 - val_accuracy: 0.9560\n",
            "Epoch 24/80\n",
            "12/12 [==============================] - 0s 8ms/step - loss: 0.4295 - accuracy: 0.9808 - val_loss: 0.4514 - val_accuracy: 0.9560\n",
            "Epoch 25/80\n",
            "12/12 [==============================] - 0s 10ms/step - loss: 0.4167 - accuracy: 0.9643 - val_loss: 0.4241 - val_accuracy: 0.9560\n",
            "Epoch 26/80\n",
            "12/12 [==============================] - 0s 9ms/step - loss: 0.3821 - accuracy: 0.9725 - val_loss: 0.3989 - val_accuracy: 0.9560\n",
            "Epoch 27/80\n",
            "12/12 [==============================] - 0s 7ms/step - loss: 0.3516 - accuracy: 0.9698 - val_loss: 0.3754 - val_accuracy: 0.9560\n",
            "Epoch 28/80\n",
            "12/12 [==============================] - 0s 9ms/step - loss: 0.3335 - accuracy: 0.9835 - val_loss: 0.3552 - val_accuracy: 0.9560\n",
            "Epoch 29/80\n",
            "12/12 [==============================] - 0s 8ms/step - loss: 0.3209 - accuracy: 0.9780 - val_loss: 0.3370 - val_accuracy: 0.9560\n",
            "Epoch 30/80\n",
            "12/12 [==============================] - 0s 7ms/step - loss: 0.3043 - accuracy: 0.9725 - val_loss: 0.3209 - val_accuracy: 0.9560\n",
            "Epoch 31/80\n",
            "12/12 [==============================] - 0s 8ms/step - loss: 0.2823 - accuracy: 0.9698 - val_loss: 0.3080 - val_accuracy: 0.9560\n",
            "Epoch 32/80\n",
            "12/12 [==============================] - 0s 7ms/step - loss: 0.2724 - accuracy: 0.9780 - val_loss: 0.2950 - val_accuracy: 0.9560\n",
            "Epoch 33/80\n",
            "12/12 [==============================] - 0s 7ms/step - loss: 0.2524 - accuracy: 0.9808 - val_loss: 0.2830 - val_accuracy: 0.9560\n",
            "Epoch 34/80\n",
            "12/12 [==============================] - 0s 8ms/step - loss: 0.2385 - accuracy: 0.9890 - val_loss: 0.2743 - val_accuracy: 0.9560\n",
            "Epoch 35/80\n",
            "12/12 [==============================] - 0s 9ms/step - loss: 0.2336 - accuracy: 0.9780 - val_loss: 0.2648 - val_accuracy: 0.9560\n",
            "Epoch 36/80\n",
            "12/12 [==============================] - 0s 8ms/step - loss: 0.2244 - accuracy: 0.9835 - val_loss: 0.2577 - val_accuracy: 0.9560\n",
            "Epoch 37/80\n",
            "12/12 [==============================] - 0s 7ms/step - loss: 0.2270 - accuracy: 0.9780 - val_loss: 0.2524 - val_accuracy: 0.9560\n",
            "Epoch 38/80\n",
            "12/12 [==============================] - 0s 8ms/step - loss: 0.2163 - accuracy: 0.9808 - val_loss: 0.2478 - val_accuracy: 0.9560\n",
            "Epoch 39/80\n",
            "12/12 [==============================] - 0s 9ms/step - loss: 0.2166 - accuracy: 0.9780 - val_loss: 0.2441 - val_accuracy: 0.9560\n",
            "Epoch 40/80\n",
            "12/12 [==============================] - 0s 8ms/step - loss: 0.1954 - accuracy: 0.9835 - val_loss: 0.2386 - val_accuracy: 0.9560\n",
            "Epoch 41/80\n",
            "12/12 [==============================] - 0s 8ms/step - loss: 0.1934 - accuracy: 0.9725 - val_loss: 0.2337 - val_accuracy: 0.9560\n",
            "Epoch 42/80\n",
            "12/12 [==============================] - 0s 6ms/step - loss: 0.1909 - accuracy: 0.9780 - val_loss: 0.2285 - val_accuracy: 0.9560\n",
            "Epoch 43/80\n",
            "12/12 [==============================] - 0s 5ms/step - loss: 0.1918 - accuracy: 0.9753 - val_loss: 0.2228 - val_accuracy: 0.9670\n",
            "Epoch 44/80\n",
            "12/12 [==============================] - 0s 5ms/step - loss: 0.1823 - accuracy: 0.9725 - val_loss: 0.2188 - val_accuracy: 0.9670\n",
            "Epoch 45/80\n",
            "12/12 [==============================] - 0s 6ms/step - loss: 0.1824 - accuracy: 0.9780 - val_loss: 0.2153 - val_accuracy: 0.9560\n",
            "Epoch 46/80\n",
            "12/12 [==============================] - 0s 7ms/step - loss: 0.1866 - accuracy: 0.9780 - val_loss: 0.2118 - val_accuracy: 0.9560\n",
            "Epoch 47/80\n",
            "12/12 [==============================] - 0s 7ms/step - loss: 0.1757 - accuracy: 0.9780 - val_loss: 0.2140 - val_accuracy: 0.9560\n",
            "Epoch 48/80\n",
            "12/12 [==============================] - 0s 5ms/step - loss: 0.1677 - accuracy: 0.9808 - val_loss: 0.2068 - val_accuracy: 0.9670\n",
            "Epoch 49/80\n",
            "12/12 [==============================] - 0s 6ms/step - loss: 0.1735 - accuracy: 0.9780 - val_loss: 0.2090 - val_accuracy: 0.9670\n",
            "Epoch 50/80\n",
            "12/12 [==============================] - 0s 6ms/step - loss: 0.1623 - accuracy: 0.9725 - val_loss: 0.2033 - val_accuracy: 0.9670\n",
            "Epoch 51/80\n",
            "12/12 [==============================] - 0s 5ms/step - loss: 0.1713 - accuracy: 0.9753 - val_loss: 0.2001 - val_accuracy: 0.9670\n",
            "Epoch 52/80\n",
            "12/12 [==============================] - 0s 7ms/step - loss: 0.1653 - accuracy: 0.9835 - val_loss: 0.2023 - val_accuracy: 0.9670\n",
            "Epoch 53/80\n",
            "12/12 [==============================] - 0s 5ms/step - loss: 0.1644 - accuracy: 0.9725 - val_loss: 0.1958 - val_accuracy: 0.9670\n",
            "Epoch 54/80\n",
            "12/12 [==============================] - 0s 6ms/step - loss: 0.1755 - accuracy: 0.9698 - val_loss: 0.1994 - val_accuracy: 0.9670\n",
            "Epoch 55/80\n",
            "12/12 [==============================] - 0s 6ms/step - loss: 0.1703 - accuracy: 0.9725 - val_loss: 0.1957 - val_accuracy: 0.9670\n",
            "Epoch 56/80\n",
            "12/12 [==============================] - 0s 5ms/step - loss: 0.1530 - accuracy: 0.9780 - val_loss: 0.1937 - val_accuracy: 0.9670\n",
            "Epoch 57/80\n",
            "12/12 [==============================] - 0s 6ms/step - loss: 0.1498 - accuracy: 0.9808 - val_loss: 0.1937 - val_accuracy: 0.9670\n",
            "Epoch 58/80\n",
            "12/12 [==============================] - 0s 6ms/step - loss: 0.1660 - accuracy: 0.9725 - val_loss: 0.1921 - val_accuracy: 0.9670\n",
            "Epoch 59/80\n",
            "12/12 [==============================] - 0s 6ms/step - loss: 0.1636 - accuracy: 0.9780 - val_loss: 0.1946 - val_accuracy: 0.9670\n",
            "Epoch 60/80\n",
            "12/12 [==============================] - 0s 6ms/step - loss: 0.1604 - accuracy: 0.9698 - val_loss: 0.1988 - val_accuracy: 0.9670\n",
            "Epoch 61/80\n",
            "12/12 [==============================] - 0s 7ms/step - loss: 0.1584 - accuracy: 0.9780 - val_loss: 0.1957 - val_accuracy: 0.9670\n",
            "Epoch 62/80\n",
            "12/12 [==============================] - 0s 5ms/step - loss: 0.1672 - accuracy: 0.9643 - val_loss: 0.1917 - val_accuracy: 0.9670\n",
            "Epoch 63/80\n",
            "12/12 [==============================] - 0s 6ms/step - loss: 0.1503 - accuracy: 0.9808 - val_loss: 0.1926 - val_accuracy: 0.9670\n",
            "Epoch 64/80\n",
            "12/12 [==============================] - 0s 5ms/step - loss: 0.1501 - accuracy: 0.9808 - val_loss: 0.1902 - val_accuracy: 0.9670\n",
            "Epoch 65/80\n",
            "12/12 [==============================] - 0s 5ms/step - loss: 0.1504 - accuracy: 0.9780 - val_loss: 0.1873 - val_accuracy: 0.9670\n",
            "Epoch 66/80\n",
            "12/12 [==============================] - 0s 5ms/step - loss: 0.1445 - accuracy: 0.9753 - val_loss: 0.1863 - val_accuracy: 0.9670\n",
            "Epoch 67/80\n",
            "12/12 [==============================] - 0s 6ms/step - loss: 0.1414 - accuracy: 0.9835 - val_loss: 0.1880 - val_accuracy: 0.9670\n",
            "Epoch 68/80\n",
            "12/12 [==============================] - 0s 5ms/step - loss: 0.1323 - accuracy: 0.9808 - val_loss: 0.1866 - val_accuracy: 0.9670\n",
            "Epoch 69/80\n",
            "12/12 [==============================] - 0s 5ms/step - loss: 0.1418 - accuracy: 0.9808 - val_loss: 0.1827 - val_accuracy: 0.9670\n",
            "Epoch 70/80\n",
            "12/12 [==============================] - 0s 5ms/step - loss: 0.1587 - accuracy: 0.9698 - val_loss: 0.1856 - val_accuracy: 0.9780\n",
            "Epoch 71/80\n",
            "12/12 [==============================] - 0s 5ms/step - loss: 0.1432 - accuracy: 0.9863 - val_loss: 0.1826 - val_accuracy: 0.9670\n",
            "Epoch 72/80\n",
            "12/12 [==============================] - 0s 7ms/step - loss: 0.1538 - accuracy: 0.9615 - val_loss: 0.1830 - val_accuracy: 0.9780\n",
            "Epoch 73/80\n",
            "12/12 [==============================] - 0s 7ms/step - loss: 0.1466 - accuracy: 0.9753 - val_loss: 0.1838 - val_accuracy: 0.9670\n",
            "Epoch 74/80\n",
            "12/12 [==============================] - 0s 7ms/step - loss: 0.1401 - accuracy: 0.9780 - val_loss: 0.1815 - val_accuracy: 0.9670\n",
            "Epoch 75/80\n",
            "12/12 [==============================] - 0s 7ms/step - loss: 0.1415 - accuracy: 0.9835 - val_loss: 0.1793 - val_accuracy: 0.9670\n",
            "Epoch 76/80\n",
            "12/12 [==============================] - 0s 5ms/step - loss: 0.1416 - accuracy: 0.9780 - val_loss: 0.1822 - val_accuracy: 0.9670\n",
            "Epoch 77/80\n",
            "12/12 [==============================] - 0s 6ms/step - loss: 0.1419 - accuracy: 0.9725 - val_loss: 0.1808 - val_accuracy: 0.9780\n",
            "Epoch 78/80\n",
            "12/12 [==============================] - 0s 5ms/step - loss: 0.1397 - accuracy: 0.9725 - val_loss: 0.1805 - val_accuracy: 0.9670\n",
            "Epoch 79/80\n",
            "12/12 [==============================] - 0s 6ms/step - loss: 0.1327 - accuracy: 0.9808 - val_loss: 0.1819 - val_accuracy: 0.9780\n",
            "Epoch 80/80\n",
            "12/12 [==============================] - 0s 6ms/step - loss: 0.1369 - accuracy: 0.9780 - val_loss: 0.1789 - val_accuracy: 0.9780\n"
          ]
        }
      ]
    },
    {
      "cell_type": "code",
      "source": [
        "plt.figure(figsize=(5,5))\n",
        "pd.DataFrame(history_2.history).plot(figsize=(10,7))"
      ],
      "metadata": {
        "colab": {
          "base_uri": "https://localhost:8080/",
          "height": 634
        },
        "id": "7eGoqTGiqXfB",
        "outputId": "800f3976-cdf8-4fab-909c-b3a3bc472f58"
      },
      "execution_count": 60,
      "outputs": [
        {
          "output_type": "execute_result",
          "data": {
            "text/plain": [
              "<Axes: >"
            ]
          },
          "metadata": {},
          "execution_count": 60
        },
        {
          "output_type": "display_data",
          "data": {
            "text/plain": [
              "<Figure size 500x500 with 0 Axes>"
            ]
          },
          "metadata": {}
        },
        {
          "output_type": "display_data",
          "data": {
            "text/plain": [
              "<Figure size 1000x700 with 1 Axes>"
            ],
            "image/png": "[encoded data removed]"
          },
          "metadata": {}
        }
      ]
    },
    {
      "cell_type": "markdown",
      "source": [
        "## Applying Regularization and Increaing dropout range to get more generalization"
      ],
      "metadata": {
        "id": "ijMFUiwSsem9"
      }
    },
    {
      "cell_type": "code",
      "source": [
        "model_3=tf.keras.Sequential([\n",
        "    tf.keras.layers.Dense(8,input_shape=(31,),activation='relu',kernel_regularizer=tf.keras.regularizers.L1L2(l1=0.01, l2=0.01)),\n",
        "    tf.keras.layers.Dropout(0.5),\n",
        "    tf.keras.layers.Dense(3),\n",
        "    tf.keras.layers.Dropout(0.5),\n",
        "\n",
        "    tf.keras.layers.Dense(1,activation='sigmoid')\n",
        "])\n",
        "model_3.compile(optimizer='adam',loss='binary_crossentropy',metrics=['accuracy'])\n",
        "history_3=model_3.fit(X_train,y_train,epochs=80,validation_split=0.2)\n"
      ],
      "metadata": {
        "colab": {
          "base_uri": "https://localhost:8080/"
        },
        "id": "k5R7leKTqgiI",
        "outputId": "c2fd5850-6bb7-4d0f-86a1-66a37f7199f7"
      },
      "execution_count": 65,
      "outputs": [
        {
          "output_type": "stream",
          "name": "stdout",
          "text": [
            "Epoch 1/80\n",
            "12/12 [==============================] - 3s 39ms/step - loss: 1.7460 - accuracy: 0.5577 - val_loss: 1.2320 - val_accuracy: 0.6374\n",
            "Epoch 2/80\n",
            "12/12 [==============================] - 0s 6ms/step - loss: 1.6397 - accuracy: 0.5632 - val_loss: 1.1218 - val_accuracy: 0.7802\n",
            "Epoch 3/80\n",
            "12/12 [==============================] - 0s 5ms/step - loss: 1.4243 - accuracy: 0.6016 - val_loss: 1.0435 - val_accuracy: 0.8132\n",
            "Epoch 4/80\n",
            "12/12 [==============================] - 0s 6ms/step - loss: 1.3426 - accuracy: 0.6374 - val_loss: 0.9844 - val_accuracy: 0.8352\n",
            "Epoch 5/80\n",
            "12/12 [==============================] - 0s 6ms/step - loss: 1.2969 - accuracy: 0.6511 - val_loss: 0.9337 - val_accuracy: 0.8571\n",
            "Epoch 6/80\n",
            "12/12 [==============================] - 0s 5ms/step - loss: 1.1603 - accuracy: 0.6731 - val_loss: 0.8928 - val_accuracy: 0.8901\n",
            "Epoch 7/80\n",
            "12/12 [==============================] - 0s 7ms/step - loss: 1.1594 - accuracy: 0.6813 - val_loss: 0.8541 - val_accuracy: 0.9011\n",
            "Epoch 8/80\n",
            "12/12 [==============================] - 0s 7ms/step - loss: 1.1992 - accuracy: 0.7115 - val_loss: 0.8266 - val_accuracy: 0.9121\n",
            "Epoch 9/80\n",
            "12/12 [==============================] - 0s 7ms/step - loss: 1.0421 - accuracy: 0.7747 - val_loss: 0.8009 - val_accuracy: 0.9231\n",
            "Epoch 10/80\n",
            "12/12 [==============================] - 0s 5ms/step - loss: 1.0415 - accuracy: 0.7555 - val_loss: 0.7789 - val_accuracy: 0.9451\n",
            "Epoch 11/80\n",
            "12/12 [==============================] - 0s 5ms/step - loss: 1.0485 - accuracy: 0.7582 - val_loss: 0.7599 - val_accuracy: 0.9451\n",
            "Epoch 12/80\n",
            "12/12 [==============================] - 0s 6ms/step - loss: 0.9904 - accuracy: 0.7500 - val_loss: 0.7426 - val_accuracy: 0.9560\n",
            "Epoch 13/80\n",
            "12/12 [==============================] - 0s 6ms/step - loss: 0.9665 - accuracy: 0.7720 - val_loss: 0.7265 - val_accuracy: 0.9560\n",
            "Epoch 14/80\n",
            "12/12 [==============================] - 0s 5ms/step - loss: 0.8967 - accuracy: 0.8022 - val_loss: 0.7119 - val_accuracy: 0.9560\n",
            "Epoch 15/80\n",
            "12/12 [==============================] - 0s 5ms/step - loss: 0.9118 - accuracy: 0.7692 - val_loss: 0.6972 - val_accuracy: 0.9560\n",
            "Epoch 16/80\n",
            "12/12 [==============================] - 0s 5ms/step - loss: 0.9405 - accuracy: 0.7802 - val_loss: 0.6821 - val_accuracy: 0.9560\n",
            "Epoch 17/80\n",
            "12/12 [==============================] - 0s 6ms/step - loss: 0.8636 - accuracy: 0.8132 - val_loss: 0.6680 - val_accuracy: 0.9560\n",
            "Epoch 18/80\n",
            "12/12 [==============================] - 0s 5ms/step - loss: 0.9067 - accuracy: 0.7665 - val_loss: 0.6552 - val_accuracy: 0.9560\n",
            "Epoch 19/80\n",
            "12/12 [==============================] - 0s 5ms/step - loss: 0.8313 - accuracy: 0.7967 - val_loss: 0.6425 - val_accuracy: 0.9560\n",
            "Epoch 20/80\n",
            "12/12 [==============================] - 0s 6ms/step - loss: 0.8030 - accuracy: 0.8022 - val_loss: 0.6308 - val_accuracy: 0.9560\n",
            "Epoch 21/80\n",
            "12/12 [==============================] - 0s 6ms/step - loss: 0.7986 - accuracy: 0.8049 - val_loss: 0.6202 - val_accuracy: 0.9560\n",
            "Epoch 22/80\n",
            "12/12 [==============================] - 0s 6ms/step - loss: 0.7787 - accuracy: 0.8159 - val_loss: 0.6091 - val_accuracy: 0.9560\n",
            "Epoch 23/80\n",
            "12/12 [==============================] - 0s 7ms/step - loss: 0.7760 - accuracy: 0.8159 - val_loss: 0.5979 - val_accuracy: 0.9780\n",
            "Epoch 24/80\n",
            "12/12 [==============================] - 0s 5ms/step - loss: 0.7385 - accuracy: 0.8187 - val_loss: 0.5864 - val_accuracy: 0.9670\n",
            "Epoch 25/80\n",
            "12/12 [==============================] - 0s 6ms/step - loss: 0.7551 - accuracy: 0.8187 - val_loss: 0.5752 - val_accuracy: 0.9670\n",
            "Epoch 26/80\n",
            "12/12 [==============================] - 0s 6ms/step - loss: 0.7222 - accuracy: 0.8324 - val_loss: 0.5651 - val_accuracy: 0.9670\n",
            "Epoch 27/80\n",
            "12/12 [==============================] - 0s 5ms/step - loss: 0.7166 - accuracy: 0.8324 - val_loss: 0.5542 - val_accuracy: 0.9670\n",
            "Epoch 28/80\n",
            "12/12 [==============================] - 0s 5ms/step - loss: 0.7610 - accuracy: 0.8104 - val_loss: 0.5439 - val_accuracy: 0.9670\n",
            "Epoch 29/80\n",
            "12/12 [==============================] - 0s 6ms/step - loss: 0.7210 - accuracy: 0.8269 - val_loss: 0.5341 - val_accuracy: 0.9780\n",
            "Epoch 30/80\n",
            "12/12 [==============================] - 0s 6ms/step - loss: 0.7283 - accuracy: 0.8022 - val_loss: 0.5243 - val_accuracy: 0.9780\n",
            "Epoch 31/80\n",
            "12/12 [==============================] - 0s 5ms/step - loss: 0.7092 - accuracy: 0.8214 - val_loss: 0.5144 - val_accuracy: 0.9670\n",
            "Epoch 32/80\n",
            "12/12 [==============================] - 0s 5ms/step - loss: 0.6774 - accuracy: 0.8626 - val_loss: 0.5047 - val_accuracy: 0.9670\n",
            "Epoch 33/80\n",
            "12/12 [==============================] - 0s 5ms/step - loss: 0.6622 - accuracy: 0.8626 - val_loss: 0.4951 - val_accuracy: 0.9670\n",
            "Epoch 34/80\n",
            "12/12 [==============================] - 0s 6ms/step - loss: 0.6435 - accuracy: 0.8297 - val_loss: 0.4863 - val_accuracy: 0.9670\n",
            "Epoch 35/80\n",
            "12/12 [==============================] - 0s 6ms/step - loss: 0.6394 - accuracy: 0.8324 - val_loss: 0.4778 - val_accuracy: 0.9670\n",
            "Epoch 36/80\n",
            "12/12 [==============================] - 0s 7ms/step - loss: 0.6519 - accuracy: 0.8654 - val_loss: 0.4694 - val_accuracy: 0.9670\n",
            "Epoch 37/80\n",
            "12/12 [==============================] - 0s 7ms/step - loss: 0.5845 - accuracy: 0.8516 - val_loss: 0.4612 - val_accuracy: 0.9670\n",
            "Epoch 38/80\n",
            "12/12 [==============================] - 0s 5ms/step - loss: 0.6378 - accuracy: 0.8324 - val_loss: 0.4530 - val_accuracy: 0.9670\n",
            "Epoch 39/80\n",
            "12/12 [==============================] - 0s 5ms/step - loss: 0.5993 - accuracy: 0.8571 - val_loss: 0.4452 - val_accuracy: 0.9670\n",
            "Epoch 40/80\n",
            "12/12 [==============================] - 0s 6ms/step - loss: 0.5852 - accuracy: 0.8626 - val_loss: 0.4375 - val_accuracy: 0.9670\n",
            "Epoch 41/80\n",
            "12/12 [==============================] - 0s 5ms/step - loss: 0.5826 - accuracy: 0.8407 - val_loss: 0.4297 - val_accuracy: 0.9670\n",
            "Epoch 42/80\n",
            "12/12 [==============================] - 0s 5ms/step - loss: 0.5597 - accuracy: 0.8654 - val_loss: 0.4222 - val_accuracy: 0.9670\n",
            "Epoch 43/80\n",
            "12/12 [==============================] - 0s 5ms/step - loss: 0.5593 - accuracy: 0.8654 - val_loss: 0.4151 - val_accuracy: 0.9670\n",
            "Epoch 44/80\n",
            "12/12 [==============================] - 0s 5ms/step - loss: 0.5673 - accuracy: 0.8516 - val_loss: 0.4083 - val_accuracy: 0.9670\n",
            "Epoch 45/80\n",
            "12/12 [==============================] - 0s 6ms/step - loss: 0.5617 - accuracy: 0.8544 - val_loss: 0.4007 - val_accuracy: 0.9670\n",
            "Epoch 46/80\n",
            "12/12 [==============================] - 0s 5ms/step - loss: 0.5412 - accuracy: 0.8819 - val_loss: 0.3934 - val_accuracy: 0.9670\n",
            "Epoch 47/80\n",
            "12/12 [==============================] - 0s 5ms/step - loss: 0.5384 - accuracy: 0.8571 - val_loss: 0.3867 - val_accuracy: 0.9670\n",
            "Epoch 48/80\n",
            "12/12 [==============================] - 0s 6ms/step - loss: 0.5224 - accuracy: 0.8434 - val_loss: 0.3798 - val_accuracy: 0.9670\n",
            "Epoch 49/80\n",
            "12/12 [==============================] - 0s 6ms/step - loss: 0.5551 - accuracy: 0.8516 - val_loss: 0.3729 - val_accuracy: 0.9670\n",
            "Epoch 50/80\n",
            "12/12 [==============================] - 0s 8ms/step - loss: 0.5145 - accuracy: 0.8599 - val_loss: 0.3664 - val_accuracy: 0.9670\n",
            "Epoch 51/80\n",
            "12/12 [==============================] - 0s 7ms/step - loss: 0.5350 - accuracy: 0.8187 - val_loss: 0.3600 - val_accuracy: 0.9670\n",
            "Epoch 52/80\n",
            "12/12 [==============================] - 0s 5ms/step - loss: 0.5008 - accuracy: 0.8489 - val_loss: 0.3538 - val_accuracy: 0.9670\n",
            "Epoch 53/80\n",
            "12/12 [==============================] - 0s 5ms/step - loss: 0.4754 - accuracy: 0.8764 - val_loss: 0.3481 - val_accuracy: 0.9670\n",
            "Epoch 54/80\n",
            "12/12 [==============================] - 0s 5ms/step - loss: 0.4939 - accuracy: 0.8462 - val_loss: 0.3424 - val_accuracy: 0.9670\n",
            "Epoch 55/80\n",
            "12/12 [==============================] - 0s 5ms/step - loss: 0.4855 - accuracy: 0.8489 - val_loss: 0.3367 - val_accuracy: 0.9670\n",
            "Epoch 56/80\n",
            "12/12 [==============================] - 0s 5ms/step - loss: 0.5044 - accuracy: 0.8462 - val_loss: 0.3311 - val_accuracy: 0.9670\n",
            "Epoch 57/80\n",
            "12/12 [==============================] - 0s 5ms/step - loss: 0.4770 - accuracy: 0.8544 - val_loss: 0.3260 - val_accuracy: 0.9670\n",
            "Epoch 58/80\n",
            "12/12 [==============================] - 0s 5ms/step - loss: 0.4805 - accuracy: 0.8544 - val_loss: 0.3207 - val_accuracy: 0.9670\n",
            "Epoch 59/80\n",
            "12/12 [==============================] - 0s 6ms/step - loss: 0.4726 - accuracy: 0.8297 - val_loss: 0.3150 - val_accuracy: 0.9670\n",
            "Epoch 60/80\n",
            "12/12 [==============================] - 0s 5ms/step - loss: 0.4259 - accuracy: 0.8846 - val_loss: 0.3090 - val_accuracy: 0.9670\n",
            "Epoch 61/80\n",
            "12/12 [==============================] - 0s 6ms/step - loss: 0.4828 - accuracy: 0.8626 - val_loss: 0.3041 - val_accuracy: 0.9670\n",
            "Epoch 62/80\n",
            "12/12 [==============================] - 0s 6ms/step - loss: 0.4358 - accuracy: 0.8929 - val_loss: 0.2992 - val_accuracy: 0.9670\n",
            "Epoch 63/80\n",
            "12/12 [==============================] - 0s 6ms/step - loss: 0.4226 - accuracy: 0.8626 - val_loss: 0.2945 - val_accuracy: 0.9670\n",
            "Epoch 64/80\n",
            "12/12 [==============================] - 0s 6ms/step - loss: 0.4227 - accuracy: 0.8846 - val_loss: 0.2899 - val_accuracy: 0.9670\n",
            "Epoch 65/80\n",
            "12/12 [==============================] - 0s 6ms/step - loss: 0.3943 - accuracy: 0.8709 - val_loss: 0.2859 - val_accuracy: 0.9670\n",
            "Epoch 66/80\n",
            "12/12 [==============================] - 0s 6ms/step - loss: 0.4115 - accuracy: 0.8874 - val_loss: 0.2819 - val_accuracy: 0.9670\n",
            "Epoch 67/80\n",
            "12/12 [==============================] - 0s 5ms/step - loss: 0.4200 - accuracy: 0.8516 - val_loss: 0.2786 - val_accuracy: 0.9670\n",
            "Epoch 68/80\n",
            "12/12 [==============================] - 0s 6ms/step - loss: 0.4147 - accuracy: 0.8791 - val_loss: 0.2759 - val_accuracy: 0.9670\n",
            "Epoch 69/80\n",
            "12/12 [==============================] - 0s 5ms/step - loss: 0.4013 - accuracy: 0.8736 - val_loss: 0.2736 - val_accuracy: 0.9670\n",
            "Epoch 70/80\n",
            "12/12 [==============================] - 0s 5ms/step - loss: 0.3865 - accuracy: 0.8599 - val_loss: 0.2703 - val_accuracy: 0.9670\n",
            "Epoch 71/80\n",
            "12/12 [==============================] - 0s 6ms/step - loss: 0.3835 - accuracy: 0.8846 - val_loss: 0.2654 - val_accuracy: 0.9670\n",
            "Epoch 72/80\n",
            "12/12 [==============================] - 0s 5ms/step - loss: 0.4186 - accuracy: 0.8764 - val_loss: 0.2636 - val_accuracy: 0.9670\n",
            "Epoch 73/80\n",
            "12/12 [==============================] - 0s 5ms/step - loss: 0.3999 - accuracy: 0.8709 - val_loss: 0.2606 - val_accuracy: 0.9670\n",
            "Epoch 74/80\n",
            "12/12 [==============================] - 0s 5ms/step - loss: 0.3757 - accuracy: 0.9011 - val_loss: 0.2566 - val_accuracy: 0.9670\n",
            "Epoch 75/80\n",
            "12/12 [==============================] - 0s 6ms/step - loss: 0.3764 - accuracy: 0.8626 - val_loss: 0.2533 - val_accuracy: 0.9670\n",
            "Epoch 76/80\n",
            "12/12 [==============================] - 0s 7ms/step - loss: 0.3738 - accuracy: 0.8654 - val_loss: 0.2503 - val_accuracy: 0.9670\n",
            "Epoch 77/80\n",
            "12/12 [==============================] - 0s 6ms/step - loss: 0.3735 - accuracy: 0.8791 - val_loss: 0.2482 - val_accuracy: 0.9670\n",
            "Epoch 78/80\n",
            "12/12 [==============================] - 0s 5ms/step - loss: 0.3592 - accuracy: 0.8764 - val_loss: 0.2448 - val_accuracy: 0.9670\n",
            "Epoch 79/80\n",
            "12/12 [==============================] - 0s 7ms/step - loss: 0.3735 - accuracy: 0.8544 - val_loss: 0.2419 - val_accuracy: 0.9670\n",
            "Epoch 80/80\n",
            "12/12 [==============================] - 0s 5ms/step - loss: 0.4022 - accuracy: 0.8434 - val_loss: 0.2421 - val_accuracy: 0.9670\n"
          ]
        }
      ]
    },
    {
      "cell_type": "code",
      "source": [
        "plt.figure(figsize=(5,5))\n",
        "pd.DataFrame(history_3.history).plot(figsize=(10,7))"
      ],
      "metadata": {
        "colab": {
          "base_uri": "https://localhost:8080/",
          "height": 634
        },
        "id": "bQ2vsI5oq9uj",
        "outputId": "43f2ef80-dab2-4e5e-a754-69e40b005b15"
      },
      "execution_count": 66,
      "outputs": [
        {
          "output_type": "execute_result",
          "data": {
            "text/plain": [
              "<Axes: >"
            ]
          },
          "metadata": {},
          "execution_count": 66
        },
        {
          "output_type": "display_data",
          "data": {
            "text/plain": [
              "<Figure size 500x500 with 0 Axes>"
            ]
          },
          "metadata": {}
        },
        {
          "output_type": "display_data",
          "data": {
            "text/plain": [
              "<Figure size 1000x700 with 1 Axes>"
            ],
            "image/png": "[encoded data removed]"
          },
          "metadata": {}
        }
      ]
    },
    {
      "cell_type": "code",
      "source": [
        "from sklearn.metrics import recall_score,precision_score,f1_score,accuracy_score\n"
      ],
      "metadata": {
        "id": "A_qLyidcrNIu"
      },
      "execution_count": 67,
      "outputs": []
    },
    {
      "cell_type": "markdown",
      "source": [
        "##### Model_1"
      ],
      "metadata": {
        "id": "X05H7KwzrnLT"
      }
    },
    {
      "cell_type": "code",
      "source": [
        "pred1=model.predict(X_test)\n",
        "pred1=pred1.round()\n",
        "print(\"Accuracy Score = \",accuracy_score(y_test,pred1))\n",
        "print(\"Recall Score = \",recall_score(y_test,pred1))\n",
        "print(\"Precision Score = \",precision_score(y_test,pred1,average=None))\n",
        "print(\"F1 Score = \",f1_score(y_test,pred1))"
      ],
      "metadata": {
        "colab": {
          "base_uri": "https://localhost:8080/"
        },
        "id": "8uwADSkfrr3k",
        "outputId": "c4e1c830-aeaf-4d55-9312-2b707b9a96f9"
      },
      "execution_count": 69,
      "outputs": [
        {
          "output_type": "stream",
          "name": "stdout",
          "text": [
            "4/4 [==============================] - 0s 3ms/step\n",
            "Accuracy Score =  0.32456140350877194\n",
            "Recall Score =  0.8372093023255814\n",
            "Precision Score =  [0.125      0.33962264]\n",
            "F1 Score =  0.483221476510067\n"
          ]
        }
      ]
    },
    {
      "cell_type": "markdown",
      "source": [
        "#### Model 2"
      ],
      "metadata": {
        "id": "grqotvGLsBSH"
      }
    },
    {
      "cell_type": "code",
      "source": [
        "pred2=model_2.predict(X_test)\n",
        "pred2=pred2.round()\n",
        "print(\"Accuracy Score = \",accuracy_score(y_test,pred2))\n",
        "print(\"Recall Score = \",recall_score(y_test,pred2))\n",
        "print(\"Precision Score = \",precision_score(y_test,pred2,average=None))\n",
        "print(\"F1 Score = \",f1_score(y_test,pred2))"
      ],
      "metadata": {
        "colab": {
          "base_uri": "https://localhost:8080/"
        },
        "id": "847mK62FsIbl",
        "outputId": "94474a19-7dfb-412b-b00a-e09aac373744"
      },
      "execution_count": 71,
      "outputs": [
        {
          "output_type": "stream",
          "name": "stdout",
          "text": [
            "4/4 [==============================] - 0s 4ms/step\n",
            "Accuracy Score =  0.9912280701754386\n",
            "Recall Score =  1.0\n",
            "Precision Score =  [1.         0.97727273]\n",
            "F1 Score =  0.9885057471264368\n"
          ]
        }
      ]
    },
    {
      "cell_type": "markdown",
      "source": [
        "#### Model 3"
      ],
      "metadata": {
        "id": "UsjXdxF5sZYa"
      }
    },
    {
      "cell_type": "code",
      "source": [
        "pred3=model_3.predict(X_test)\n",
        "pred3=pred2.round()\n",
        "print(\"Accuracy Score = \",accuracy_score(y_test,pred3))\n",
        "print(\"Recall Score = \",recall_score(y_test,pred3))\n",
        "print(\"Precision Score = \",precision_score(y_test,pred3,average=None))\n",
        "print(\"F1 Score = \",f1_score(y_test,pred3))"
      ],
      "metadata": {
        "colab": {
          "base_uri": "https://localhost:8080/"
        },
        "id": "9R8qyVKIsObp",
        "outputId": "82e6b77d-6945-488e-9a6a-89fdcad8a379"
      },
      "execution_count": 72,
      "outputs": [
        {
          "output_type": "stream",
          "name": "stdout",
          "text": [
            "4/4 [==============================] - 0s 6ms/step\n",
            "Accuracy Score =  0.9912280701754386\n",
            "Recall Score =  1.0\n",
            "Precision Score =  [1.         0.97727273]\n",
            "F1 Score =  0.9885057471264368\n"
          ]
        }
      ]
    },
    {
      "cell_type": "code",
      "source": [],
      "metadata": {
        "id": "VkOWPKiasV8_"
      },
      "execution_count": null,
      "outputs": []
    }
  ]
}